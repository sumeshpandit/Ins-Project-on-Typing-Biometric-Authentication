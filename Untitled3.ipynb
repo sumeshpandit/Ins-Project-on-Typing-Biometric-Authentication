{
  "nbformat": 4,
  "nbformat_minor": 0,
  "metadata": {
    "colab": {
      "name": "Untitled3.ipynb",
      "provenance": [],
      "mount_file_id": "1OK00HQtpEHDqiM5mscLobqodKvBhZT2o",
      "authorship_tag": "ABX9TyMZw1L1vvN9SkZ4FWJC33Hy",
      "include_colab_link": true
    },
    "kernelspec": {
      "name": "python3",
      "display_name": "Python 3"
    }
  },
  "cells": [
    {
      "cell_type": "markdown",
      "metadata": {
        "id": "view-in-github",
        "colab_type": "text"
      },
      "source": [
        "<a href=\"https://colab.research.google.com/github/sumeshpandit/Ins-Project-on-Typing-Biometric-Authentication/blob/main/Untitled3.ipynb\" target=\"_parent\"><img src=\"https://colab.research.google.com/assets/colab-badge.svg\" alt=\"Open In Colab\"/></a>"
      ]
    },
    {
      "cell_type": "code",
      "metadata": {
        "id": "vmWGhJ9JVbpZ"
      },
      "source": [
        "from google.colab import drive"
      ],
      "execution_count": 1,
      "outputs": []
    },
    {
      "cell_type": "code",
      "metadata": {
        "id": "qd5XeQ_aWMVF",
        "outputId": "16fc3738-4cc3-4896-fe5e-c757d046674e",
        "colab": {
          "base_uri": "https://localhost:8080/",
          "height": 35
        }
      },
      "source": [
        "drive.mount('/content/gdrive')"
      ],
      "execution_count": 2,
      "outputs": [
        {
          "output_type": "stream",
          "text": [
            "Mounted at /content/gdrive\n"
          ],
          "name": "stdout"
        }
      ]
    },
    {
      "cell_type": "code",
      "metadata": {
        "id": "o00HidO7Wott",
        "outputId": "fb6e26e9-e036-410b-be23-e8f24aceea58",
        "colab": {
          "base_uri": "https://localhost:8080/",
          "height": 74
        }
      },
      "source": [
        "!cp gdrive\\https://drive.google.com/drive/folders/19C3uoBpunznmh_wPpoMwih3N6SjnlZ_D?usp=sharing"
      ],
      "execution_count": 3,
      "outputs": [
        {
          "output_type": "stream",
          "text": [
            "cp: missing destination file operand after 'gdrivehttps://drive.google.com/drive/folders/19C3uoBpunznmh_wPpoMwih3N6SjnlZ_D?usp=sharing'\n",
            "Try 'cp --help' for more information.\n"
          ],
          "name": "stdout"
        }
      ]
    },
    {
      "cell_type": "code",
      "metadata": {
        "id": "T--GB3CLYJaC"
      },
      "source": [
        "!cp /content/gdrive/My Drive/Colab Notebooks/authio-master/"
      ],
      "execution_count": null,
      "outputs": []
    },
    {
      "cell_type": "code",
      "metadata": {
        "id": "taXNnX6Raqgm",
        "outputId": "bd1dd395-01e6-4928-bfd7-0869c5a17252",
        "colab": {
          "base_uri": "https://localhost:8080/",
          "height": 219
        }
      },
      "source": [
        "!pip install keras-metrics"
      ],
      "execution_count": 15,
      "outputs": [
        {
          "output_type": "stream",
          "text": [
            "Collecting keras-metrics\n",
            "  Downloading https://files.pythonhosted.org/packages/32/c9/a87420da8e73de944e63a8e9cdcfb1f03ca31a7c4cdcdbd45d2cdf13275a/keras_metrics-1.1.0-py2.py3-none-any.whl\n",
            "Requirement already satisfied: Keras>=2.1.5 in /usr/local/lib/python3.6/dist-packages (from keras-metrics) (2.4.3)\n",
            "Requirement already satisfied: pyyaml in /usr/local/lib/python3.6/dist-packages (from Keras>=2.1.5->keras-metrics) (3.13)\n",
            "Requirement already satisfied: scipy>=0.14 in /usr/local/lib/python3.6/dist-packages (from Keras>=2.1.5->keras-metrics) (1.4.1)\n",
            "Requirement already satisfied: h5py in /usr/local/lib/python3.6/dist-packages (from Keras>=2.1.5->keras-metrics) (2.10.0)\n",
            "Requirement already satisfied: numpy>=1.9.1 in /usr/local/lib/python3.6/dist-packages (from Keras>=2.1.5->keras-metrics) (1.18.5)\n",
            "Requirement already satisfied: six in /usr/local/lib/python3.6/dist-packages (from h5py->Keras>=2.1.5->keras-metrics) (1.15.0)\n",
            "Installing collected packages: keras-metrics\n",
            "Successfully installed keras-metrics-1.1.0\n"
          ],
          "name": "stdout"
        }
      ]
    },
    {
      "cell_type": "code",
      "metadata": {
        "id": "8GgXZO3acSxH",
        "outputId": "52b4d17c-3803-4188-c87c-7b89a2b76395",
        "colab": {
          "base_uri": "https://localhost:8080/",
          "height": 1000
        }
      },
      "source": [
        "!python /content/sample_data/start.py"
      ],
      "execution_count": 20,
      "outputs": [
        {
          "output_type": "stream",
          "text": [
            "2020-10-22 04:06:29.930895: I tensorflow/stream_executor/platform/default/dso_loader.cc:48] Successfully opened dynamic library libcudart.so.10.1\n",
            "Testing for user: 0\n",
            "2020-10-22 04:06:33.610806: I tensorflow/stream_executor/platform/default/dso_loader.cc:48] Successfully opened dynamic library libcuda.so.1\n",
            "2020-10-22 04:06:33.679852: E tensorflow/stream_executor/cuda/cuda_driver.cc:314] failed call to cuInit: CUDA_ERROR_NO_DEVICE: no CUDA-capable device is detected\n",
            "2020-10-22 04:06:33.679918: I tensorflow/stream_executor/cuda/cuda_diagnostics.cc:156] kernel driver does not appear to be running on this host (2b0d423ceec4): /proc/driver/nvidia/version does not exist\n",
            "2020-10-22 04:06:33.695161: I tensorflow/core/platform/profile_utils/cpu_utils.cc:104] CPU Frequency: 2200000000 Hz\n",
            "2020-10-22 04:06:33.695455: I tensorflow/compiler/xla/service/service.cc:168] XLA service 0x2fda840 initialized for platform Host (this does not guarantee that XLA will be used). Devices:\n",
            "2020-10-22 04:06:33.695491: I tensorflow/compiler/xla/service/service.cc:176]   StreamExecutor device (0): Host, Default Version\n",
            "WARNING:tensorflow:From /usr/local/lib/python3.6/dist-packages/keras_metrics/metrics.py:51: calling Layer.add_update (from tensorflow.python.keras.engine.base_layer) with inputs is deprecated and will be removed in a future version.\n",
            "Instructions for updating:\n",
            "`inputs` is now automatically inferred\n",
            "Testing for user: 1\n",
            "Testing for user: 2\n",
            "Testing for user: 3\n",
            "Testing for user: 4\n",
            "Testing for user: 5\n",
            "Testing for user: 6\n",
            "Testing for user: 7\n",
            "Testing for user: 8\n",
            "Testing for user: 9\n",
            "Testing for user: 10\n",
            "Testing for user: 11\n",
            "Testing for user: 12\n",
            "Testing for user: 13\n",
            "Testing for user: 14\n",
            "Testing for user: 15\n",
            "Testing for user: 16\n",
            "Testing for user: 17\n",
            "Testing for user: 18\n",
            "Testing for user: 19\n",
            "Testing for user: 20\n",
            "Testing for user: 21\n",
            "Testing for user: 22\n",
            "Testing for user: 23\n",
            "Testing for user: 24\n",
            "Testing for user: 25\n",
            "Testing for user: 26\n",
            "Testing for user: 27\n",
            "Testing for user: 28\n",
            "Testing for user: 29\n",
            "Testing for user: 30\n",
            "Testing for user: 31\n",
            "Testing for user: 32\n",
            "Testing for user: 33\n",
            "Testing for user: 34\n",
            "Testing for user: 35\n",
            "Testing for user: 36\n",
            "Testing for user: 37\n",
            "Testing for user: 38\n",
            "Testing for user: 39\n",
            "Testing for user: 40\n",
            "Testing for user: 41\n",
            "Testing for user: 42\n",
            "Testing for user: 43\n",
            "Testing for user: 44\n",
            "Testing for user: 45\n",
            "Testing for user: 46\n",
            "Testing for user: 47\n",
            "Testing for user: 48\n",
            "Testing for user: 49\n",
            "Testing for user: 50\n",
            "\n",
            "Final accuracy mean: 0.9887254901960782\n",
            "Final accuracy std: 0.0067031905269132755\n",
            "\n",
            "Final recall mean: 0.9788402179970007\n",
            "Final recall std: 0.01212776848000028\n",
            "\n",
            "Final precision mean: 0.9992034313725491\n",
            "Final precision std: 0.0020377805328818522\n",
            "\n",
            "Final F1 mean: 0.9888807515079364\n",
            "Final F1 std: 0.006530176222528728\n",
            "\n",
            "Total time expended: 418341\n"
          ],
          "name": "stdout"
        }
      ]
    },
    {
      "cell_type": "code",
      "metadata": {
        "id": "FdYqAUu9dIKz"
      },
      "source": [
        ""
      ],
      "execution_count": null,
      "outputs": []
    }
  ]
}